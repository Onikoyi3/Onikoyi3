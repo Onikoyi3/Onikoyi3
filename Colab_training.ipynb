{
  "nbformat": 4,
  "nbformat_minor": 0,
  "metadata": {
    "colab": {
      "provenance": [],
      "authorship_tag": "ABX9TyNxZIRWVFulR3M1Z0njSNZe",
      "include_colab_link": true
    },
    "kernelspec": {
      "name": "python3",
      "display_name": "Python 3"
    },
    "language_info": {
      "name": "python"
    }
  },
  "cells": [
    {
      "cell_type": "markdown",
      "metadata": {
        "id": "view-in-github",
        "colab_type": "text"
      },
      "source": [
        "<a href=\"https://colab.research.google.com/github/Onikoyi3/Onikoyi3/blob/main/Colab_training.ipynb\" target=\"_parent\"><img src=\"https://colab.research.google.com/assets/colab-badge.svg\" alt=\"Open In Colab\"/></a>"
      ]
    },
    {
      "cell_type": "code",
      "execution_count": 1,
      "metadata": {
        "id": "GJ8YD5_ZWydB"
      },
      "outputs": [],
      "source": [
        "# Google Colab - IDE (Integrated Development Environment)\n",
        "\n",
        "# Comment (Are Hashtags)\n",
        "\n",
        "# Data Structure\n",
        "# 1. Numbers - (1i - integer, 1ii - float)\n",
        "# 2. Text - Strings\n",
        "# 3. Variable Assignment\n",
        "# 4. Conditional Statement\n",
        "\n",
        "# To run your code press (SHIFT + ENTER) together"
      ]
    },
    {
      "cell_type": "code",
      "source": [
        "# Integer - They are whole numbers - INT (Positive or Negative)\n",
        "10"
      ],
      "metadata": {
        "colab": {
          "base_uri": "https://localhost:8080/"
        },
        "id": "rhVJeaCJZBSN",
        "outputId": "ffe4f4f9-1133-45ec-a063-d3b7adbd09e5"
      },
      "execution_count": 2,
      "outputs": [
        {
          "output_type": "execute_result",
          "data": {
            "text/plain": [
              "10"
            ]
          },
          "metadata": {},
          "execution_count": 2
        }
      ]
    },
    {
      "cell_type": "code",
      "source": [
        "type(-10)"
      ],
      "metadata": {
        "colab": {
          "base_uri": "https://localhost:8080/"
        },
        "id": "GJH3h9TSZhxp",
        "outputId": "556658fc-bd8f-49b2-fd97-72abf6027dad"
      },
      "execution_count": 4,
      "outputs": [
        {
          "output_type": "execute_result",
          "data": {
            "text/plain": [
              "int"
            ]
          },
          "metadata": {},
          "execution_count": 4
        }
      ]
    },
    {
      "cell_type": "code",
      "source": [
        "# Float - They are decimal point numbers (Positive or Negative)\n",
        "10.5"
      ],
      "metadata": {
        "colab": {
          "base_uri": "https://localhost:8080/"
        },
        "id": "GUtmSOS5ZvZi",
        "outputId": "872a3b41-ba37-4a1d-f54b-43abef16ca41"
      },
      "execution_count": 5,
      "outputs": [
        {
          "output_type": "execute_result",
          "data": {
            "text/plain": [
              "10.5"
            ]
          },
          "metadata": {},
          "execution_count": 5
        }
      ]
    },
    {
      "cell_type": "code",
      "source": [
        "type(10.5)"
      ],
      "metadata": {
        "colab": {
          "base_uri": "https://localhost:8080/"
        },
        "id": "HvmNeS-SaawA",
        "outputId": "abe5fea6-3063-4c39-cf13-b7316865ceb6"
      },
      "execution_count": 6,
      "outputs": [
        {
          "output_type": "execute_result",
          "data": {
            "text/plain": [
              "float"
            ]
          },
          "metadata": {},
          "execution_count": 6
        }
      ]
    },
    {
      "cell_type": "code",
      "source": [
        "10 * 10"
      ],
      "metadata": {
        "colab": {
          "base_uri": "https://localhost:8080/"
        },
        "id": "E-vLGS15ae-3",
        "outputId": "1afcd3b5-ad20-481b-c8f5-c6342ae1e92e"
      },
      "execution_count": 7,
      "outputs": [
        {
          "output_type": "execute_result",
          "data": {
            "text/plain": [
              "100"
            ]
          },
          "metadata": {},
          "execution_count": 7
        }
      ]
    },
    {
      "cell_type": "code",
      "source": [
        "10 * 34.5"
      ],
      "metadata": {
        "colab": {
          "base_uri": "https://localhost:8080/"
        },
        "id": "3dITRppPasSQ",
        "outputId": "7ef718fa-975d-4884-92d1-5929c3c3c20c"
      },
      "execution_count": 8,
      "outputs": [
        {
          "output_type": "execute_result",
          "data": {
            "text/plain": [
              "345.0"
            ]
          },
          "metadata": {},
          "execution_count": 8
        }
      ]
    },
    {
      "cell_type": "code",
      "source": [
        "# Strings -Text - Str\n",
        "\"Azeez\""
      ],
      "metadata": {
        "colab": {
          "base_uri": "https://localhost:8080/",
          "height": 35
        },
        "id": "6_DP-lHqa2Au",
        "outputId": "af49a70e-d028-42b3-ca73-d5f9d54e3677"
      },
      "execution_count": 10,
      "outputs": [
        {
          "output_type": "execute_result",
          "data": {
            "text/plain": [
              "'Azeez'"
            ],
            "application/vnd.google.colaboratory.intrinsic+json": {
              "type": "string"
            }
          },
          "metadata": {},
          "execution_count": 10
        }
      ]
    },
    {
      "cell_type": "code",
      "source": [
        "type(\"Azeez\")"
      ],
      "metadata": {
        "colab": {
          "base_uri": "https://localhost:8080/"
        },
        "id": "roo9Cnt9a9pw",
        "outputId": "08230d94-cea5-4ef0-a520-fd9dd81a2f22"
      },
      "execution_count": 11,
      "outputs": [
        {
          "output_type": "execute_result",
          "data": {
            "text/plain": [
              "str"
            ]
          },
          "metadata": {},
          "execution_count": 11
        }
      ]
    },
    {
      "cell_type": "code",
      "source": [
        "# Variable Assignment - Variable is an empty container\n",
        "# Variable cannot start with a number\n",
        "# Variable cannot have spaces\n",
        "# Variable names are case sensitive\n",
        "salary = 1000"
      ],
      "metadata": {
        "id": "p0CAuf4wbSTu"
      },
      "execution_count": 12,
      "outputs": []
    },
    {
      "cell_type": "code",
      "source": [
        "salary"
      ],
      "metadata": {
        "colab": {
          "base_uri": "https://localhost:8080/"
        },
        "id": "rQDEQIbKcQYh",
        "outputId": "0df4c8a7-a3f5-48df-c3df-9c3f9d056cc8"
      },
      "execution_count": 14,
      "outputs": [
        {
          "output_type": "execute_result",
          "data": {
            "text/plain": [
              "1000"
            ]
          },
          "metadata": {},
          "execution_count": 14
        }
      ]
    },
    {
      "cell_type": "code",
      "source": [
        "salary * salary"
      ],
      "metadata": {
        "colab": {
          "base_uri": "https://localhost:8080/"
        },
        "id": "SziLxxwWcVQ8",
        "outputId": "5d22248b-8c1a-4a5b-a4d5-1da028266663"
      },
      "execution_count": 15,
      "outputs": [
        {
          "output_type": "execute_result",
          "data": {
            "text/plain": [
              "1000000"
            ]
          },
          "metadata": {},
          "execution_count": 15
        }
      ]
    },
    {
      "cell_type": "code",
      "source": [
        "f_name = \"Babs\"\n",
        "l_name = \"Denise\"\n",
        "\n",
        "full_name = f_name + \" \" + l_name\n",
        "\n",
        "full_name"
      ],
      "metadata": {
        "colab": {
          "base_uri": "https://localhost:8080/",
          "height": 35
        },
        "id": "NfxnF17Wckw5",
        "outputId": "461babc9-0150-415d-be2e-1dd34a7c8630"
      },
      "execution_count": 18,
      "outputs": [
        {
          "output_type": "execute_result",
          "data": {
            "text/plain": [
              "'Babs Denise'"
            ],
            "application/vnd.google.colaboratory.intrinsic+json": {
              "type": "string"
            }
          },
          "metadata": {},
          "execution_count": 18
        }
      ]
    },
    {
      "cell_type": "code",
      "source": [
        "f_name = input(\"What is your first name:\")\n",
        "l_name = input(\"What is your last name:\")\n",
        "full_name = f_name + \" \" + l_name\n",
        "\n",
        "full_name"
      ],
      "metadata": {
        "colab": {
          "base_uri": "https://localhost:8080/",
          "height": 70
        },
        "id": "o1oYbUtIed_X",
        "outputId": "9d2529a4-0a33-49cd-83de-9a94801a4d74"
      },
      "execution_count": 19,
      "outputs": [
        {
          "name": "stdout",
          "output_type": "stream",
          "text": [
            "What is your first name:Azeez\n",
            "What is your last name:Orolade\n"
          ]
        },
        {
          "output_type": "execute_result",
          "data": {
            "text/plain": [
              "'Azeez Orolade'"
            ],
            "application/vnd.google.colaboratory.intrinsic+json": {
              "type": "string"
            }
          },
          "metadata": {},
          "execution_count": 19
        }
      ]
    },
    {
      "cell_type": "code",
      "source": [
        "# Password Generator\n",
        "\n",
        "import random\n",
        "\n",
        "name = \"OromasokoOOA\"\n",
        "number = \"23488\"\n",
        "special_cha = \".$$\"\n",
        "password_len = 12\n",
        "\n",
        "all_characters = name + number + special_cha\n",
        "\n",
        "my_password = \"\".join(random.sample(all_characters, password_len))\n",
        "\n",
        "my_password"
      ],
      "metadata": {
        "colab": {
          "base_uri": "https://localhost:8080/",
          "height": 35
        },
        "outputId": "cb69ec03-337b-419f-986a-cd1bcecb57ff",
        "id": "GQWry2NKffay"
      },
      "execution_count": 22,
      "outputs": [
        {
          "output_type": "execute_result",
          "data": {
            "text/plain": [
              "'oaA$Os$o2.mO'"
            ],
            "application/vnd.google.colaboratory.intrinsic+json": {
              "type": "string"
            }
          },
          "metadata": {},
          "execution_count": 22
        }
      ]
    },
    {
      "cell_type": "code",
      "source": [
        "# Test Calculator\n",
        "\n",
        "f_test = float(input(\"What was your score in your first test: \"))\n",
        "s_test = float(input(\"What was your score in your second test: \"))\n",
        "attnd = float(input(\"What was your score in your attendance: \"))\n",
        "exam = float(input(\"What was your score in your examinamtion: \"))\n",
        "\n",
        "total_score = f_test + s_test + attnd + exam\n",
        "\n",
        "total_score"
      ],
      "metadata": {
        "colab": {
          "base_uri": "https://localhost:8080/"
        },
        "id": "72HD8FM_hYGl",
        "outputId": "285befce-079e-414d-a01b-fbc0037e34f9"
      },
      "execution_count": 25,
      "outputs": [
        {
          "name": "stdout",
          "output_type": "stream",
          "text": [
            "What was your score in your first test: 15.5\n",
            "What was your score in your second test: 10\n",
            "What was your score in your attendance: 5\n",
            "What was your score in your examinamtion: 55\n"
          ]
        },
        {
          "output_type": "execute_result",
          "data": {
            "text/plain": [
              "85.5"
            ]
          },
          "metadata": {},
          "execution_count": 25
        }
      ]
    },
    {
      "cell_type": "code",
      "source": [],
      "metadata": {
        "id": "6nvDrSPJkQeB"
      },
      "execution_count": null,
      "outputs": []
    }
  ]
}